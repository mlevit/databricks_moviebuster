{
 "cells": [
  {
   "cell_type": "code",
   "execution_count": 0,
   "metadata": {
    "application/vnd.databricks.v1+cell": {
     "cellMetadata": {
      "byteLimit": 2048000,
      "rowLimit": 10000
     },
     "inputWidgets": {},
     "nuid": "fb5add4c-c711-4268-9556-966a5e9c44fe",
     "showTitle": false,
     "tableResultSettingsMap": {},
     "title": ""
    }
   },
   "outputs": [],
   "source": [
    "CREATE WIDGET TEXT catalog DEFAULT \"\";"
   ]
  },
  {
   "cell_type": "code",
   "execution_count": 0,
   "metadata": {
    "application/vnd.databricks.v1+cell": {
     "cellMetadata": {
      "byteLimit": 2048000,
      "implicitDf": true,
      "rowLimit": 10000
     },
     "inputWidgets": {},
     "nuid": "999bd27b-7ff7-4edc-98e3-0ff43d4bc660",
     "showTitle": false,
     "tableResultSettingsMap": {},
     "title": ""
    }
   },
   "outputs": [],
   "source": [
    "USE CATALOG identifier(:catalog);\n",
    "\n",
    "-- DROP SCHEMA IF EXISTS moviebuster_gold CASCADE;\n",
    "-- CREATE SCHEMA moviebuster_gold;\n",
    "\n",
    "USE SCHEMA moviebuster_gold;"
   ]
  },
  {
   "cell_type": "code",
   "execution_count": 0,
   "metadata": {
    "application/vnd.databricks.v1+cell": {
     "cellMetadata": {
      "byteLimit": 2048000,
      "implicitDf": true,
      "rowLimit": 10000
     },
     "inputWidgets": {},
     "nuid": "9b56fd16-86a6-4834-9e72-e573d95a8062",
     "showTitle": false,
     "tableResultSettingsMap": {},
     "title": ""
    }
   },
   "outputs": [],
   "source": [
    "CREATE OR REPLACE TABLE dim_customer (\n",
    "    customer_id INT NOT NULL,\n",
    "    first_name STRING,\n",
    "    last_name STRING,\n",
    "    email STRING,\n",
    "    active BOOLEAN,\n",
    "    create_date DATE,\n",
    "    address STRING,\n",
    "    postal_code STRING,\n",
    "    city STRING,\n",
    "    country STRING,\n",
    "    CONSTRAINT pk_customer PRIMARY KEY (customer_id)\n",
    ");\n",
    "\n",
    "INSERT INTO dim_customer\n",
    "SELECT\n",
    "    c.customer_id,\n",
    "    c.first_name,\n",
    "    c.last_name,\n",
    "    c.email,\n",
    "    c.active,\n",
    "    c.create_date,\n",
    "    a.address,\n",
    "    a.postal_code,\n",
    "    ci.city,\n",
    "    co.country\n",
    "FROM identifier(:catalog || '.moviebuster_bronze.customer') c\n",
    "JOIN identifier(:catalog || '.moviebuster_bronze.address') a ON c.address_id = a.address_id\n",
    "JOIN identifier(:catalog || '.moviebuster_bronze.city') ci ON a.city_id = ci.city_id\n",
    "JOIN identifier(:catalog || '.moviebuster_bronze.country') co ON ci.country_id = co.country_id;"
   ]
  },
  {
   "cell_type": "code",
   "execution_count": 0,
   "metadata": {
    "application/vnd.databricks.v1+cell": {
     "cellMetadata": {
      "byteLimit": 2048000,
      "implicitDf": true,
      "rowLimit": 10000
     },
     "inputWidgets": {},
     "nuid": "372e5805-d0db-45b4-9f3d-29708dc0b86e",
     "showTitle": false,
     "tableResultSettingsMap": {},
     "title": ""
    }
   },
   "outputs": [],
   "source": [
    "CREATE OR REPLACE TABLE dim_staff(\n",
    "  staff_id INT NOT NULL,\n",
    "  first_name STRING,\n",
    "  last_name STRING,\n",
    "  email STRING,\n",
    "  active BOOLEAN,\n",
    "  username STRING,\n",
    "  address STRING,\n",
    "  postal_code STRING,\n",
    "  city STRING,\n",
    "  country STRING,\n",
    "  staff_store_id INT,\n",
    "  CONSTRAINT pk_staff PRIMARY KEY (staff_id)\n",
    ");\n",
    "\n",
    "INSERT INTO dim_staff\n",
    "  SELECT\n",
    "    s.staff_id,\n",
    "    s.first_name,\n",
    "    s.last_name,\n",
    "    s.email,\n",
    "    s.active,\n",
    "    s.username,\n",
    "    a.address,\n",
    "    a.postal_code,\n",
    "    ci.city,\n",
    "    co.country,\n",
    "    st.store_id AS staff_store_id\n",
    "  FROM\n",
    "    identifier(:catalog || '.moviebuster_bronze.staff') s\n",
    "      JOIN identifier(:catalog || '.moviebuster_bronze.address') a\n",
    "        ON s.address_id = a.address_id\n",
    "      JOIN identifier(:catalog || '.moviebuster_bronze.city') ci\n",
    "        ON a.city_id = ci.city_id\n",
    "      JOIN identifier(:catalog || '.moviebuster_bronze.country') co\n",
    "        ON ci.country_id = co.country_id\n",
    "      JOIN identifier(:catalog || '.moviebuster_bronze.store') st\n",
    "        ON s.store_id = st.store_id;"
   ]
  },
  {
   "cell_type": "code",
   "execution_count": 0,
   "metadata": {
    "application/vnd.databricks.v1+cell": {
     "cellMetadata": {
      "byteLimit": 2048000,
      "implicitDf": true,
      "rowLimit": 10000
     },
     "inputWidgets": {},
     "nuid": "c8fa56cc-e582-4f30-a19f-9581f799f831",
     "showTitle": false,
     "tableResultSettingsMap": {},
     "title": ""
    }
   },
   "outputs": [],
   "source": [
    "CREATE OR REPLACE TABLE dim_film(\n",
    "  film_id INT NOT NULL,\n",
    "  title STRING,\n",
    "  release_year INT,\n",
    "  rating STRING,\n",
    "  rental_duration INT,\n",
    "  rental_rate DECIMAL(5, 2),\n",
    "  replacement_cost DECIMAL(5, 2),\n",
    "  special_features STRING,\n",
    "  language STRING,\n",
    "  categories STRING,\n",
    "  CONSTRAINT pk_film PRIMARY KEY (film_id)\n",
    ");\n",
    "\n",
    "INSERT INTO dim_film\n",
    "  SELECT\n",
    "    f.film_id,\n",
    "    f.title,\n",
    "    f.release_year,\n",
    "    f.rating,\n",
    "    f.rental_duration,\n",
    "    f.rental_rate,\n",
    "    f.replacement_cost,\n",
    "    f.special_features,\n",
    "    l.name AS language,\n",
    "    STRING_AGG(DISTINCT cat.name) AS categories\n",
    "  FROM\n",
    "    identifier(:catalog || '.moviebuster_bronze.film') f\n",
    "      JOIN identifier(:catalog || '.moviebuster_bronze.language') l\n",
    "        ON f.language_id = l.language_id\n",
    "      LEFT JOIN identifier(:catalog || '.moviebuster_bronze.film_category') fc\n",
    "        ON f.film_id = fc.film_id\n",
    "      LEFT JOIN identifier(:catalog || '.moviebuster_bronze.category') cat\n",
    "        ON fc.category_id = cat.category_id\n",
    "  GROUP BY\n",
    "    f.film_id,\n",
    "    f.title,\n",
    "    f.release_year,\n",
    "    f.rating,\n",
    "    f.rental_duration,\n",
    "    f.rental_rate,\n",
    "    f.replacement_cost,\n",
    "    f.special_features,\n",
    "    l.name;"
   ]
  },
  {
   "cell_type": "code",
   "execution_count": 0,
   "metadata": {
    "application/vnd.databricks.v1+cell": {
     "cellMetadata": {
      "byteLimit": 2048000,
      "implicitDf": true,
      "rowLimit": 10000
     },
     "inputWidgets": {},
     "nuid": "b30ffbcb-393d-4776-8f6d-9b57be331f7a",
     "showTitle": false,
     "tableResultSettingsMap": {},
     "title": ""
    }
   },
   "outputs": [],
   "source": [
    "CREATE OR REPLACE TABLE dim_store(\n",
    "  store_id INT NOT NULL,\n",
    "  manager_staff_id INT,\n",
    "  address STRING,\n",
    "  postal_code STRING,\n",
    "  city STRING,\n",
    "  country STRING,\n",
    "  CONSTRAINT pk_store PRIMARY KEY (store_id)\n",
    ");\n",
    "\n",
    "INSERT INTO dim_store\n",
    "  SELECT\n",
    "    st.store_id,\n",
    "    st.manager_staff_id,\n",
    "    a.address,\n",
    "    a.postal_code,\n",
    "    ci.city,\n",
    "    co.country\n",
    "  FROM\n",
    "    identifier(:catalog || '.moviebuster_bronze.store') st\n",
    "      JOIN identifier(:catalog || '.moviebuster_bronze.address') a\n",
    "        ON st.address_id = a.address_id\n",
    "      JOIN identifier(:catalog || '.moviebuster_bronze.city') ci\n",
    "        ON a.city_id = ci.city_id\n",
    "      JOIN identifier(:catalog || '.moviebuster_bronze.country') co\n",
    "        ON ci.country_id = co.country_id;"
   ]
  },
  {
   "cell_type": "code",
   "execution_count": 0,
   "metadata": {
    "application/vnd.databricks.v1+cell": {
     "cellMetadata": {
      "byteLimit": 2048000,
      "implicitDf": true,
      "rowLimit": 10000
     },
     "inputWidgets": {},
     "nuid": "0cc33b95-0d62-43ec-84c4-84826aa0e024",
     "showTitle": false,
     "tableResultSettingsMap": {},
     "title": ""
    }
   },
   "outputs": [],
   "source": [
    "CREATE OR REPLACE TABLE rental_fact (\n",
    "    rental_id INT NOT NULL,\n",
    "    rental_date DATE,\n",
    "    return_date DATE,\n",
    "    rental_duration INT,\n",
    "    amount DECIMAL(10,2),\n",
    "\n",
    "    -- Foreign Keys to dimension tables\n",
    "    customer_id INT,\n",
    "    staff_id INT,\n",
    "    film_id INT,\n",
    "    store_id INT,\n",
    "\n",
    "    -- Primary Key\n",
    "    CONSTRAINT pk_rental_fact PRIMARY KEY (rental_id),\n",
    "\n",
    "    -- Foreign Key Constraints (informational)\n",
    "    CONSTRAINT fk_rental_customer FOREIGN KEY (customer_id) REFERENCES dim_customer (customer_id),\n",
    "    CONSTRAINT fk_rental_staff FOREIGN KEY (staff_id) REFERENCES dim_staff (staff_id),\n",
    "    CONSTRAINT fk_rental_film FOREIGN KEY (film_id) REFERENCES dim_film (film_id),\n",
    "    CONSTRAINT fk_rental_store FOREIGN KEY (store_id) REFERENCES dim_store (store_id)\n",
    ");\n",
    "\n",
    "INSERT INTO rental_fact\n",
    "SELECT\n",
    "    r.rental_id,\n",
    "    r.rental_date,\n",
    "    r.return_date,\n",
    "    DATEDIFF(r.return_date, r.rental_date) AS rental_duration,\n",
    "    p.amount,\n",
    "    r.customer_id,\n",
    "    r.staff_id,\n",
    "    i.film_id,\n",
    "    i.store_id\n",
    "FROM identifier(:catalog || '.moviebuster_bronze.rental') r\n",
    "JOIN identifier(:catalog || '.moviebuster_bronze.payment') p ON r.rental_id = p.rental_id\n",
    "JOIN identifier(:catalog || '.moviebuster_bronze.inventory') i ON r.inventory_id = i.inventory_id;"
   ]
  },
  {
   "cell_type": "code",
   "execution_count": 0,
   "metadata": {
    "application/vnd.databricks.v1+cell": {
     "cellMetadata": {
      "byteLimit": 2048000,
      "implicitDf": true,
      "rowLimit": 10000
     },
     "inputWidgets": {},
     "nuid": "ee4c0ca1-ec6d-4c5d-b78e-45795b379982",
     "showTitle": false,
     "tableResultSettingsMap": {},
     "title": ""
    }
   },
   "outputs": [],
   "source": [
    "CREATE OR REPLACE VIEW rental_fact_view AS\n",
    "SELECT\n",
    "  -- Fact\n",
    "  f.rental_id,\n",
    "  f.rental_date,\n",
    "  f.return_date,\n",
    "  f.rental_duration,\n",
    "  f.amount,\n",
    "  -- Customer Dimension\n",
    "  dc.customer_id,\n",
    "  dc.first_name AS customer_first_name,\n",
    "  dc.last_name AS customer_last_name,\n",
    "  dc.email AS customer_email,\n",
    "  dc.active AS customer_active,\n",
    "  dc.address AS customer_address,\n",
    "  dc.postal_code AS customer_postal_code,\n",
    "  dc.city AS customer_city,\n",
    "  dc.country AS customer_country,\n",
    "  -- Staff Dimension\n",
    "  ds.staff_id,\n",
    "  ds.first_name AS staff_first_name,\n",
    "  ds.last_name AS staff_last_name,\n",
    "  ds.email AS staff_email,\n",
    "  ds.username AS staff_username,\n",
    "  ds.active AS staff_active,\n",
    "  ds.address AS staff_address,\n",
    "  ds.postal_code AS staff_postal_code,\n",
    "  ds.city AS staff_city,\n",
    "  ds.country AS staff_country,\n",
    "  ds.staff_store_id,\n",
    "  -- Film Dimension\n",
    "  df.film_id,\n",
    "  df.title AS film_title,\n",
    "  df.release_year,\n",
    "  df.rating,\n",
    "  df.rental_duration AS film_rental_duration,\n",
    "  df.rental_rate,\n",
    "  df.replacement_cost,\n",
    "  df.special_features,\n",
    "  df.language,\n",
    "  df.categories,\n",
    "  -- Store Dimension\n",
    "  dstore.store_id,\n",
    "  dstore.manager_staff_id,\n",
    "  dstore.address AS store_address,\n",
    "  dstore.postal_code AS store_postal_code,\n",
    "  dstore.city AS store_city,\n",
    "  dstore.country AS store_country\n",
    "FROM\n",
    "  rental_fact f\n",
    "    JOIN dim_customer dc\n",
    "      ON f.customer_id = dc.customer_id\n",
    "    JOIN dim_staff ds\n",
    "      ON f.staff_id = ds.staff_id\n",
    "    JOIN dim_film df\n",
    "      ON f.film_id = df.film_id\n",
    "    JOIN dim_store dstore\n",
    "      ON f.store_id = dstore.store_id\n",
    "WHERE\n",
    "  YEAR(f.rental_date) = '2005';"
   ]
  },
  {
   "cell_type": "markdown",
   "metadata": {
    "application/vnd.databricks.v1+cell": {
     "cellMetadata": {},
     "inputWidgets": {},
     "nuid": "ba8a9aa3-f0e0-482b-af46-b21cc4a6f920",
     "showTitle": false,
     "tableResultSettingsMap": {},
     "title": ""
    }
   },
   "source": [
    "## ABAC"
   ]
  },
  {
   "cell_type": "code",
   "execution_count": 0,
   "metadata": {
    "application/vnd.databricks.v1+cell": {
     "cellMetadata": {
      "byteLimit": 2048000,
      "rowLimit": 10000
     },
     "inputWidgets": {},
     "nuid": "6c9c9150-6630-4190-b6a5-ead56af53977",
     "showTitle": false,
     "tableResultSettingsMap": {},
     "title": ""
    }
   },
   "outputs": [],
   "source": [
    "CREATE OR REPLACE FUNCTION mask_email(email STRING)\n",
    "RETURNS STRING\n",
    "RETURN regexp_replace(email, '(.*)@', '');"
   ]
  },
  {
   "cell_type": "code",
   "execution_count": 0,
   "metadata": {
    "application/vnd.databricks.v1+cell": {
     "cellMetadata": {},
     "inputWidgets": {},
     "nuid": "1bedc72f-8d14-4752-806c-1872daf49652",
     "showTitle": false,
     "tableResultSettingsMap": {},
     "title": ""
    }
   },
   "outputs": [],
   "source": [
    "CREATE OR REPLACE FUNCTION mask_password(password STRING)\n",
    "RETURNS STRING\n",
    "RETURN '*****';"
   ]
  },
  {
   "cell_type": "code",
   "execution_count": 0,
   "metadata": {
    "application/vnd.databricks.v1+cell": {
     "cellMetadata": {
      "byteLimit": 2048000,
      "rowLimit": 10000
     },
     "inputWidgets": {},
     "nuid": "b8136be2-f0ad-41cd-910d-4d036d663bd1",
     "showTitle": false,
     "tableResultSettingsMap": {},
     "title": ""
    }
   },
   "outputs": [],
   "source": [
    "CREATE OR REPLACE FUNCTION mask_address(password STRING)\n",
    "RETURNS STRING\n",
    "RETURN '*****';"
   ]
  },
  {
   "cell_type": "code",
   "execution_count": 0,
   "metadata": {
    "application/vnd.databricks.v1+cell": {
     "cellMetadata": {
      "byteLimit": 2048000,
      "rowLimit": 10000
     },
     "inputWidgets": {},
     "nuid": "05288621-8d98-423d-becb-ad2658f80b4f",
     "showTitle": false,
     "tableResultSettingsMap": {},
     "title": ""
    }
   },
   "outputs": [],
   "source": [
    "CREATE OR REPLACE POLICY mask_emails\n",
    "ON SCHEMA moviebuster_gold\n",
    "COLUMN MASK mask_email\n",
    "TO `account users`\n",
    "FOR TABLES\n",
    "MATCH COLUMNS hasTag('class.email_address') AS email\n",
    "ON COLUMN email;"
   ]
  },
  {
   "cell_type": "code",
   "execution_count": 0,
   "metadata": {
    "application/vnd.databricks.v1+cell": {
     "cellMetadata": {
      "byteLimit": 2048000,
      "rowLimit": 10000
     },
     "inputWidgets": {},
     "nuid": "b729e371-eb47-4a7b-b710-070ce4ad5706",
     "showTitle": false,
     "tableResultSettingsMap": {},
     "title": ""
    }
   },
   "outputs": [],
   "source": [
    "CREATE OR REPLACE POLICY mask_addresses\n",
    "ON SCHEMA moviebuster_gold\n",
    "COLUMN MASK mask_address\n",
    "TO `account users`\n",
    "FOR TABLES\n",
    "MATCH COLUMNS hasTag('class.location') AS email\n",
    "ON COLUMN email;"
   ]
  }
 ],
 "metadata": {
  "application/vnd.databricks.v1+notebook": {
   "computePreferences": null,
   "dashboards": [],
   "environmentMetadata": {
    "base_environment": "",
    "environment_version": "2"
   },
   "inputWidgetPreferences": null,
   "language": "sql",
   "notebookMetadata": {
    "mostRecentlyExecutedCommandWithImplicitDF": {
     "commandId": -1,
     "dataframes": [
      "_sqldf"
     ]
    },
    "pythonIndentUnit": 2
   },
   "notebookName": "Create_Gold_Layer",
   "widgets": {
    "catalog": {
     "currentValue": "marat_levit",
     "nuid": "c64b5919-1d8b-4ccb-bfc6-3657649a84ce",
     "typedWidgetInfo": {
      "autoCreated": false,
      "defaultValue": "",
      "label": null,
      "name": "catalog",
      "options": {
       "widgetDisplayType": "Text",
       "validationRegex": null
      },
      "parameterDataType": "String"
     },
     "widgetInfo": {
      "widgetType": "text",
      "defaultValue": "",
      "label": null,
      "name": "catalog",
      "options": {
       "widgetType": "text",
       "autoCreated": false,
       "validationRegex": null
      }
     }
    }
   }
  },
  "language_info": {
   "name": "sql"
  }
 },
 "nbformat": 4,
 "nbformat_minor": 0
}
