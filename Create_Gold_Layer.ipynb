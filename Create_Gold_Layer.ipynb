{
 "cells": [
  {
   "cell_type": "code",
   "execution_count": 0,
   "metadata": {
    "application/vnd.databricks.v1+cell": {
     "cellMetadata": {
      "byteLimit": 2048000,
      "rowLimit": 10000
     },
     "inputWidgets": {},
     "nuid": "fb5add4c-c711-4268-9556-966a5e9c44fe",
     "showTitle": false,
     "tableResultSettingsMap": {},
     "title": ""
    }
   },
   "outputs": [],
   "source": [
    "CREATE WIDGET TEXT catalog DEFAULT \"\";"
   ]
  },
  {
   "cell_type": "code",
   "execution_count": 0,
   "metadata": {
    "application/vnd.databricks.v1+cell": {
     "cellMetadata": {
      "byteLimit": 2048000,
      "implicitDf": true,
      "rowLimit": 10000
     },
     "inputWidgets": {},
     "nuid": "999bd27b-7ff7-4edc-98e3-0ff43d4bc660",
     "showTitle": false,
     "tableResultSettingsMap": {},
     "title": ""
    }
   },
   "outputs": [],
   "source": [
    "USE CATALOG identifier(:catalog);\n",
    "\n",
    "-- DROP SCHEMA IF EXISTS moviebuster_gold CASCADE;\n",
    "-- CREATE SCHEMA moviebuster_gold;\n",
    "\n",
    "USE SCHEMA moviebuster_gold;"
   ]
  },
  {
   "cell_type": "code",
   "execution_count": 0,
   "metadata": {
    "application/vnd.databricks.v1+cell": {
     "cellMetadata": {
      "byteLimit": 2048000,
      "implicitDf": true,
      "rowLimit": 10000
     },
     "inputWidgets": {},
     "nuid": "9b56fd16-86a6-4834-9e72-e573d95a8062",
     "showTitle": false,
     "tableResultSettingsMap": {},
     "title": ""
    }
   },
   "outputs": [],
   "source": [
    "CREATE OR REPLACE TABLE dim_customer(\n",
    "  customer_id INT NOT NULL COMMENT 'Unique identifier for each customer',\n",
    "  first_name STRING COMMENT 'Customer first name',\n",
    "  last_name STRING COMMENT 'Customer last name',\n",
    "  email STRING COMMENT 'Customer email address',\n",
    "  active BOOLEAN COMMENT 'Indicates whether the customer is currently active',\n",
    "  create_date DATE COMMENT 'Date when the customer record was created',\n",
    "  address STRING COMMENT 'Street address of the customer',\n",
    "  postal_code STRING COMMENT 'Postal code associated with the customer address',\n",
    "  city STRING COMMENT 'City of the customer address',\n",
    "  country STRING COMMENT 'Country of the customer address',\n",
    "  CONSTRAINT pk_customer PRIMARY KEY (customer_id)\n",
    ");\n",
    "\n",
    "ALTER TABLE dim_customer\n",
    "SET TAGS (\n",
    "    'classification' = 'internal',\n",
    "    'data_owner' = 'owner@databricks.com',\n",
    "    'refresh_frequency' = 'daily'\n",
    ");\n",
    "\n",
    "ALTER TABLE dim_customer\n",
    "ALTER COLUMN first_name\n",
    "SET TAGS ('class.name');\n",
    "\n",
    "ALTER TABLE dim_customer\n",
    "ALTER COLUMN last_name\n",
    "SET TAGS ('class.name');\n",
    "\n",
    "ALTER TABLE dim_customer\n",
    "ALTER COLUMN email\n",
    "SET TAGS ('class.email_address');\n",
    "\n",
    "ALTER TABLE dim_customer\n",
    "ALTER COLUMN address\n",
    "SET TAGS ('class.location');\n",
    "\n",
    "ALTER TABLE dim_customer\n",
    "ALTER COLUMN postal_code\n",
    "SET TAGS ('class.location');\n",
    "\n",
    "ALTER TABLE dim_customer\n",
    "ALTER COLUMN city\n",
    "SET TAGS ('class.location');\n",
    "\n",
    "ALTER TABLE dim_customer\n",
    "ALTER COLUMN country\n",
    "SET TAGS ('class.location');\n",
    "\n",
    "INSERT INTO dim_customer\n",
    "  SELECT\n",
    "    c.customer_id,\n",
    "    c.first_name,\n",
    "    c.last_name,\n",
    "    c.email,\n",
    "    c.active,\n",
    "    c.create_date,\n",
    "    a.address,\n",
    "    a.postal_code,\n",
    "    ci.city,\n",
    "    co.country\n",
    "  FROM\n",
    "    identifier(:catalog || '.moviebuster_bronze.customer') c\n",
    "      JOIN identifier(:catalog || '.moviebuster_bronze.address') a\n",
    "        ON c.address_id = a.address_id\n",
    "      JOIN identifier(:catalog || '.moviebuster_bronze.city') ci\n",
    "        ON a.city_id = ci.city_id\n",
    "      JOIN identifier(:catalog || '.moviebuster_bronze.country') co\n",
    "        ON ci.country_id = co.country_id;"
   ]
  },
  {
   "cell_type": "code",
   "execution_count": 0,
   "metadata": {
    "application/vnd.databricks.v1+cell": {
     "cellMetadata": {
      "byteLimit": 2048000,
      "implicitDf": true,
      "rowLimit": 10000
     },
     "inputWidgets": {},
     "nuid": "372e5805-d0db-45b4-9f3d-29708dc0b86e",
     "showTitle": false,
     "tableResultSettingsMap": {},
     "title": ""
    }
   },
   "outputs": [],
   "source": [
    "CREATE OR REPLACE TABLE dim_staff(\n",
    "  staff_id INT NOT NULL COMMENT 'Unique identifier for each staff member',\n",
    "  first_name STRING COMMENT 'Staff member first name',\n",
    "  last_name STRING COMMENT 'Staff member last name',\n",
    "  email STRING COMMENT 'Staff member email address',\n",
    "  active BOOLEAN COMMENT 'Indicates whether the staff member is currently active',\n",
    "  username STRING COMMENT 'Login username for the staff member',\n",
    "  address STRING COMMENT 'Street address of the staff member',\n",
    "  postal_code STRING COMMENT 'Postal code associated with the staff address',\n",
    "  city STRING COMMENT 'City of the staff address',\n",
    "  country STRING COMMENT 'Country of the staff address',\n",
    "  staff_store_id INT COMMENT 'Identifier of the store where the staff member works',\n",
    "  CONSTRAINT pk_staff PRIMARY KEY (staff_id)\n",
    ");\n",
    "\n",
    "ALTER TABLE dim_staff\n",
    "SET TAGS (\n",
    "    'classification' = 'internal',\n",
    "    'data_owner' = 'owner@databricks.com',\n",
    "    'refresh_frequency' = 'daily'\n",
    ");\n",
    "\n",
    "ALTER TABLE dim_staff\n",
    "ALTER COLUMN first_name\n",
    "SET TAGS ('class.name');\n",
    "\n",
    "ALTER TABLE dim_staff\n",
    "ALTER COLUMN last_name\n",
    "SET TAGS ('class.name');\n",
    "\n",
    "ALTER TABLE dim_staff\n",
    "ALTER COLUMN email\n",
    "SET TAGS ('class.email_address');\n",
    "\n",
    "ALTER TABLE dim_staff\n",
    "ALTER COLUMN address\n",
    "SET TAGS ('class.location');\n",
    "\n",
    "ALTER TABLE dim_staff\n",
    "ALTER COLUMN postal_code\n",
    "SET TAGS ('class.location');\n",
    "\n",
    "ALTER TABLE dim_staff\n",
    "ALTER COLUMN city\n",
    "SET TAGS ('class.location');\n",
    "\n",
    "ALTER TABLE dim_staff\n",
    "ALTER COLUMN country\n",
    "SET TAGS ('class.location');\n",
    "\n",
    "INSERT INTO dim_staff\n",
    "  SELECT\n",
    "    s.staff_id,\n",
    "    s.first_name,\n",
    "    s.last_name,\n",
    "    s.email,\n",
    "    s.active,\n",
    "    s.username,\n",
    "    a.address,\n",
    "    a.postal_code,\n",
    "    ci.city,\n",
    "    co.country,\n",
    "    st.store_id AS staff_store_id\n",
    "  FROM\n",
    "    identifier(:catalog || '.moviebuster_bronze.staff') s\n",
    "      JOIN identifier(:catalog || '.moviebuster_bronze.address') a\n",
    "        ON s.address_id = a.address_id\n",
    "      JOIN identifier(:catalog || '.moviebuster_bronze.city') ci\n",
    "        ON a.city_id = ci.city_id\n",
    "      JOIN identifier(:catalog || '.moviebuster_bronze.country') co\n",
    "        ON ci.country_id = co.country_id\n",
    "      JOIN identifier(:catalog || '.moviebuster_bronze.store') st\n",
    "        ON s.store_id = st.store_id;"
   ]
  },
  {
   "cell_type": "code",
   "execution_count": 0,
   "metadata": {
    "application/vnd.databricks.v1+cell": {
     "cellMetadata": {
      "byteLimit": 2048000,
      "implicitDf": true,
      "rowLimit": 10000
     },
     "inputWidgets": {},
     "nuid": "c8fa56cc-e582-4f30-a19f-9581f799f831",
     "showTitle": false,
     "tableResultSettingsMap": {},
     "title": ""
    }
   },
   "outputs": [],
   "source": [
    "CREATE OR REPLACE TABLE dim_film(\n",
    "  film_id INT NOT NULL COMMENT 'Unique identifier for each film',\n",
    "  title STRING COMMENT 'Title of the film',\n",
    "  release_year INT COMMENT 'Year the film was released',\n",
    "  rating STRING COMMENT 'Film rating (e.g. G, PG, R)',\n",
    "  rental_duration INT COMMENT 'Number of days the film can be rented',\n",
    "  rental_rate DECIMAL(5, 2) COMMENT 'Rental price of the film',\n",
    "  replacement_cost DECIMAL(5, 2) COMMENT 'Cost to replace the film if lost or damaged',\n",
    "  special_features STRING COMMENT 'Comma-separated list of special features (e.g. Deleted Scenes, Behind the Scenes)',\n",
    "  language STRING COMMENT 'Primary language of the film',\n",
    "  categories STRING COMMENT 'Comma-separated list of categories/genres the film belongs to',\n",
    "  CONSTRAINT pk_film PRIMARY KEY (film_id)\n",
    ");\n",
    "\n",
    "ALTER TABLE dim_film\n",
    "SET TAGS (\n",
    "    'classification' = 'internal',\n",
    "    'data_owner' = 'owner@databricks.com',\n",
    "    'refresh_frequency' = 'daily'\n",
    ");\n",
    "\n",
    "INSERT INTO dim_film\n",
    "  SELECT\n",
    "    f.film_id,\n",
    "    f.title,\n",
    "    f.release_year,\n",
    "    f.rating,\n",
    "    f.rental_duration,\n",
    "    f.rental_rate,\n",
    "    f.replacement_cost,\n",
    "    f.special_features,\n",
    "    l.name AS language,\n",
    "    STRING_AGG(DISTINCT cat.name) AS categories\n",
    "  FROM\n",
    "    identifier(:catalog || '.moviebuster_bronze.film') f\n",
    "      JOIN identifier(:catalog || '.moviebuster_bronze.language') l\n",
    "        ON f.language_id = l.language_id\n",
    "      LEFT JOIN identifier(:catalog || '.moviebuster_bronze.film_category') fc\n",
    "        ON f.film_id = fc.film_id\n",
    "      LEFT JOIN identifier(:catalog || '.moviebuster_bronze.category') cat\n",
    "        ON fc.category_id = cat.category_id\n",
    "  GROUP BY\n",
    "    f.film_id,\n",
    "    f.title,\n",
    "    f.release_year,\n",
    "    f.rating,\n",
    "    f.rental_duration,\n",
    "    f.rental_rate,\n",
    "    f.replacement_cost,\n",
    "    f.special_features,\n",
    "    l.name;"
   ]
  },
  {
   "cell_type": "code",
   "execution_count": 0,
   "metadata": {
    "application/vnd.databricks.v1+cell": {
     "cellMetadata": {
      "byteLimit": 2048000,
      "implicitDf": true,
      "rowLimit": 10000
     },
     "inputWidgets": {},
     "nuid": "b30ffbcb-393d-4776-8f6d-9b57be331f7a",
     "showTitle": false,
     "tableResultSettingsMap": {},
     "title": ""
    }
   },
   "outputs": [],
   "source": [
    "CREATE OR REPLACE TABLE dim_store(\n",
    "  store_id INT NOT NULL COMMENT 'Unique identifier for each store',\n",
    "  manager_staff_id INT COMMENT 'Identifier of the staff member managing the store',\n",
    "  address STRING COMMENT 'Street address of the store',\n",
    "  postal_code STRING COMMENT 'Postal code associated with the store location',\n",
    "  city STRING COMMENT 'City where the store is located',\n",
    "  country STRING COMMENT 'Country where the store is located',\n",
    "  CONSTRAINT pk_store PRIMARY KEY (store_id)\n",
    ");\n",
    "\n",
    "ALTER TABLE dim_store\n",
    "SET TAGS (\n",
    "    'classification' = 'internal',\n",
    "    'data_owner' = 'owner@databricks.com',\n",
    "    'refresh_frequency' = 'daily'\n",
    ");\n",
    "\n",
    "ALTER TABLE dim_store\n",
    "ALTER COLUMN address\n",
    "SET TAGS ('class.location');\n",
    "\n",
    "ALTER TABLE dim_store\n",
    "ALTER COLUMN postal_code\n",
    "SET TAGS ('class.location');\n",
    "\n",
    "ALTER TABLE dim_store\n",
    "ALTER COLUMN city\n",
    "SET TAGS ('class.location');\n",
    "\n",
    "ALTER TABLE dim_store\n",
    "ALTER COLUMN country\n",
    "SET TAGS ('class.location');\n",
    "\n",
    "INSERT INTO dim_store\n",
    "  SELECT\n",
    "    st.store_id,\n",
    "    st.manager_staff_id,\n",
    "    a.address,\n",
    "    a.postal_code,\n",
    "    ci.city,\n",
    "    co.country\n",
    "  FROM\n",
    "    identifier(:catalog || '.moviebuster_bronze.store') st\n",
    "      JOIN identifier(:catalog || '.moviebuster_bronze.address') a\n",
    "        ON st.address_id = a.address_id\n",
    "      JOIN identifier(:catalog || '.moviebuster_bronze.city') ci\n",
    "        ON a.city_id = ci.city_id\n",
    "      JOIN identifier(:catalog || '.moviebuster_bronze.country') co\n",
    "        ON ci.country_id = co.country_id;"
   ]
  },
  {
   "cell_type": "code",
   "execution_count": 0,
   "metadata": {
    "application/vnd.databricks.v1+cell": {
     "cellMetadata": {
      "byteLimit": 2048000,
      "implicitDf": true,
      "rowLimit": 10000
     },
     "inputWidgets": {},
     "nuid": "0cc33b95-0d62-43ec-84c4-84826aa0e024",
     "showTitle": false,
     "tableResultSettingsMap": {},
     "title": ""
    }
   },
   "outputs": [],
   "source": [
    "CREATE OR REPLACE TABLE rental_fact(\n",
    "  rental_id INT NOT NULL COMMENT 'Unique identifier for each rental transaction',\n",
    "  rental_date DATE COMMENT 'Date when the rental occurred',\n",
    "  return_date DATE COMMENT 'Date when the rental was returned',\n",
    "  rental_duration INT COMMENT 'Number of days the rental lasted (calculated as return_date - rental_date)',\n",
    "  amount DECIMAL(10, 2) COMMENT 'Total amount paid for the rental',\n",
    "  customer_id INT COMMENT 'Reference to the customer who made the rental',\n",
    "  staff_id INT COMMENT 'Reference to the staff member who handled the rental',\n",
    "  film_id INT COMMENT 'Reference to the film that was rented',\n",
    "  store_id INT COMMENT 'Reference to the store where the rental was made',\n",
    "  CONSTRAINT pk_rental_fact PRIMARY KEY (rental_id),\n",
    "  CONSTRAINT fk_rental_customer FOREIGN KEY (customer_id) REFERENCES dim_customer (customer_id),\n",
    "  CONSTRAINT fk_rental_staff FOREIGN KEY (staff_id) REFERENCES dim_staff (staff_id),\n",
    "  CONSTRAINT fk_rental_film FOREIGN KEY (film_id) REFERENCES dim_film (film_id),\n",
    "  CONSTRAINT fk_rental_store FOREIGN KEY (store_id) REFERENCES dim_store (store_id)\n",
    ");\n",
    "\n",
    "INSERT INTO rental_fact\n",
    "  SELECT\n",
    "    r.rental_id,\n",
    "    r.rental_date,\n",
    "    r.return_date,\n",
    "    DATEDIFF(r.return_date, r.rental_date) AS rental_duration,\n",
    "    p.amount,\n",
    "    r.customer_id,\n",
    "    r.staff_id,\n",
    "    i.film_id,\n",
    "    i.store_id\n",
    "  FROM\n",
    "    identifier(:catalog || '.moviebuster_bronze.rental') r\n",
    "      JOIN identifier(:catalog || '.moviebuster_bronze.payment') p\n",
    "        ON r.rental_id = p.rental_id\n",
    "      JOIN identifier(:catalog || '.moviebuster_bronze.inventory') i\n",
    "        ON r.inventory_id = i.inventory_id;"
   ]
  },
  {
   "cell_type": "code",
   "execution_count": 0,
   "metadata": {
    "application/vnd.databricks.v1+cell": {
     "cellMetadata": {
      "byteLimit": 2048000,
      "implicitDf": true,
      "rowLimit": 10000
     },
     "inputWidgets": {},
     "nuid": "ee4c0ca1-ec6d-4c5d-b78e-45795b379982",
     "showTitle": false,
     "tableResultSettingsMap": {},
     "title": ""
    }
   },
   "outputs": [],
   "source": [
    "CREATE OR REPLACE VIEW rental_fact_view AS\n",
    "SELECT\n",
    "  -- Fact\n",
    "  f.rental_id,\n",
    "  f.rental_date,\n",
    "  f.return_date,\n",
    "  f.rental_duration,\n",
    "  f.amount,\n",
    "  -- Customer Dimension\n",
    "  dc.customer_id,\n",
    "  dc.first_name AS customer_first_name,\n",
    "  dc.last_name AS customer_last_name,\n",
    "  dc.email AS customer_email,\n",
    "  dc.active AS customer_active,\n",
    "  dc.address AS customer_address,\n",
    "  dc.postal_code AS customer_postal_code,\n",
    "  dc.city AS customer_city,\n",
    "  dc.country AS customer_country,\n",
    "  -- Staff Dimension\n",
    "  ds.staff_id,\n",
    "  ds.first_name AS staff_first_name,\n",
    "  ds.last_name AS staff_last_name,\n",
    "  ds.email AS staff_email,\n",
    "  ds.username AS staff_username,\n",
    "  ds.active AS staff_active,\n",
    "  ds.address AS staff_address,\n",
    "  ds.postal_code AS staff_postal_code,\n",
    "  ds.city AS staff_city,\n",
    "  ds.country AS staff_country,\n",
    "  ds.staff_store_id,\n",
    "  -- Film Dimension\n",
    "  df.film_id,\n",
    "  df.title AS film_title,\n",
    "  df.release_year AS film_release_year,\n",
    "  df.rating as film_rating,\n",
    "  df.rental_duration AS film_rental_duration,\n",
    "  df.rental_rate AS film_rental_rate,\n",
    "  df.replacement_cost AS film_replacement_cost,\n",
    "  df.special_features AS film_special_features,\n",
    "  df.language AS film_language,\n",
    "  df.categories AS film_categories,\n",
    "  -- Store Dimension\n",
    "  dstore.store_id,\n",
    "  dstore.manager_staff_id,\n",
    "  dstore.address AS store_address,\n",
    "  dstore.postal_code AS store_postal_code,\n",
    "  dstore.city AS store_city,\n",
    "  dstore.country AS store_country\n",
    "FROM\n",
    "  rental_fact f\n",
    "    JOIN dim_customer dc\n",
    "      ON f.customer_id = dc.customer_id\n",
    "    JOIN dim_staff ds\n",
    "      ON f.staff_id = ds.staff_id\n",
    "    JOIN dim_film df\n",
    "      ON f.film_id = df.film_id\n",
    "    JOIN dim_store dstore\n",
    "      ON f.store_id = dstore.store_id\n",
    "WHERE\n",
    "  YEAR(f.rental_date) = '2005';"
   ]
  },
  {
   "cell_type": "markdown",
   "metadata": {
    "application/vnd.databricks.v1+cell": {
     "cellMetadata": {},
     "inputWidgets": {},
     "nuid": "7208cf8b-6a31-4338-97da-b54eaf7ce541",
     "showTitle": false,
     "tableResultSettingsMap": {},
     "title": ""
    }
   },
   "source": [
    "## Metrics"
   ]
  },
  {
   "cell_type": "code",
   "execution_count": 0,
   "metadata": {
    "application/vnd.databricks.v1+cell": {
     "cellMetadata": {
      "byteLimit": 2048000,
      "rowLimit": 10000
     },
     "inputWidgets": {},
     "nuid": "fb8b6711-a3cd-4ebf-9880-8cedd6f2b9a1",
     "showTitle": false,
     "tableResultSettingsMap": {},
     "title": ""
    }
   },
   "outputs": [],
   "source": [
    "CREATE\n",
    "OR REPLACE VIEW rental_metrics (\n",
    "  `Rental Date`,\n",
    "  `Return Date`,\n",
    "  `Customer ID`,\n",
    "  `Customer City`,\n",
    "  `Customer Country`,\n",
    "  `Staff ID`,\n",
    "  `Staff City`,\n",
    "  `Staff Country`,\n",
    "  `Film ID`,\n",
    "  `Film Title`,\n",
    "  `Film Category`,\n",
    "  `Film Release Year`,\n",
    "  `Film Rating`,\n",
    "  `Store ID`,\n",
    "  `Store City`,\n",
    "  `Store Country`,\n",
    "  `Total Rentals`,\n",
    "  `Total Amount`,\n",
    "  `Average Rental Duration`,\n",
    "  `Average Rental Amount`,\n",
    "  `Maximum Rental Amount`,\n",
    "  `Minimum Rental Amount`,\n",
    "  `Distinct Customers`,\n",
    "  `Distinct Films Rented`,\n",
    "  `Rentals Per Customer`,\n",
    "  `Rentals Per Staff`,\n",
    "  `Rentals Per Store`,\n",
    "  `Return Rate`,\n",
    "  `Daily Rental Revenue`\n",
    ") WITH METRICS LANGUAGE YAML\n",
    "COMMENT 'Metric view for analyzing rentals, revenue, and customer behavior across stores and staff.' AS $$\n",
    "version: 0.1\n",
    "source: marat_levit.moviebuster_gold.rental_fact_view\n",
    "dimensions:\n",
    "  - name: Rental Date\n",
    "    expr: rental_date\n",
    "  - name: Return Date\n",
    "    expr: return_date\n",
    "  - name: Customer ID\n",
    "    expr: customer_id\n",
    "  - name: Customer City\n",
    "    expr: customer_city\n",
    "  - name: Customer Country\n",
    "    expr: customer_country\n",
    "  - name: Staff ID\n",
    "    expr: staff_id\n",
    "  - name: Staff City\n",
    "    expr: staff_city\n",
    "  - name: Staff Country\n",
    "    expr: staff_country\n",
    "  - name: Film ID\n",
    "    expr: film_id\n",
    "  - name: Film Title\n",
    "    expr: film_title\n",
    "  - name: Film Category\n",
    "    expr: film_categories\n",
    "  - name: Film Release Year\n",
    "    expr: film_release_year\n",
    "  - name: Film Rating\n",
    "    expr: film_rating\n",
    "  - name: Store ID\n",
    "    expr: store_id\n",
    "  - name: Store City\n",
    "    expr: store_city\n",
    "  - name: Store Country\n",
    "    expr: store_country\n",
    "measures:\n",
    "  - name: Total Rentals\n",
    "    expr: count(rental_id)\n",
    "  - name: Total Amount\n",
    "    expr: sum(amount)\n",
    "  - name: Average Rental Duration\n",
    "    expr: avg(rental_duration)\n",
    "  - name: Average Rental Amount\n",
    "    expr: avg(amount)\n",
    "  - name: Maximum Rental Amount\n",
    "    expr: max(amount)\n",
    "  - name: Minimum Rental Amount\n",
    "    expr: min(amount)\n",
    "  - name: Distinct Customers\n",
    "    expr: count(distinct customer_id)\n",
    "  - name: Distinct Films Rented\n",
    "    expr: count(distinct film_id)\n",
    "  - name: Rentals Per Customer\n",
    "    expr: count(rental_id) / count(distinct customer_id)\n",
    "  - name: Rentals Per Staff\n",
    "    expr: count(rental_id) / count(distinct staff_id)\n",
    "  - name: Rentals Per Store\n",
    "    expr: count(rental_id) / count(distinct store_id)\n",
    "  - name: Return Rate\n",
    "    expr: count(return_date) / count(rental_id)\n",
    "  - name: Daily Rental Revenue\n",
    "    expr: sum(amount) / datediff(max(rental_date), min(rental_date) + 1)\n",
    "$$;"
   ]
  },
  {
   "cell_type": "markdown",
   "metadata": {
    "application/vnd.databricks.v1+cell": {
     "cellMetadata": {
      "byteLimit": 2048000,
      "rowLimit": 10000
     },
     "inputWidgets": {},
     "nuid": "ba8a9aa3-f0e0-482b-af46-b21cc4a6f920",
     "showTitle": false,
     "tableResultSettingsMap": {},
     "title": ""
    }
   },
   "source": [
    "## ABAC - CLM"
   ]
  },
  {
   "cell_type": "code",
   "execution_count": 0,
   "metadata": {
    "application/vnd.databricks.v1+cell": {
     "cellMetadata": {
      "byteLimit": 2048000,
      "rowLimit": 10000
     },
     "inputWidgets": {},
     "nuid": "6c9c9150-6630-4190-b6a5-ead56af53977",
     "showTitle": false,
     "tableResultSettingsMap": {},
     "title": ""
    }
   },
   "outputs": [],
   "source": [
    "CREATE OR REPLACE FUNCTION mask_email(email STRING)\n",
    "RETURNS STRING\n",
    "RETURN regexp_replace(email, '(.*)@', '');"
   ]
  },
  {
   "cell_type": "code",
   "execution_count": 0,
   "metadata": {
    "application/vnd.databricks.v1+cell": {
     "cellMetadata": {
      "byteLimit": 2048000,
      "rowLimit": 10000
     },
     "inputWidgets": {},
     "nuid": "05288621-8d98-423d-becb-ad2658f80b4f",
     "showTitle": false,
     "tableResultSettingsMap": {},
     "title": ""
    }
   },
   "outputs": [],
   "source": [
    "CREATE OR REPLACE POLICY mask_emails\n",
    "ON SCHEMA moviebuster_gold\n",
    "COLUMN MASK mask_email\n",
    "TO `account users`\n",
    "FOR TABLES\n",
    "MATCH COLUMNS hasTag('class.email_address') AS email\n",
    "ON COLUMN email;"
   ]
  },
  {
   "cell_type": "markdown",
   "metadata": {
    "application/vnd.databricks.v1+cell": {
     "cellMetadata": {
      "byteLimit": 2048000,
      "rowLimit": 10000
     },
     "inputWidgets": {},
     "nuid": "81750fcb-e6c8-4088-9ac9-3afeba97a0c1",
     "showTitle": false,
     "tableResultSettingsMap": {},
     "title": ""
    }
   },
   "source": [
    "## ABAC - RLS"
   ]
  },
  {
   "cell_type": "code",
   "execution_count": 0,
   "metadata": {
    "application/vnd.databricks.v1+cell": {
     "cellMetadata": {
      "byteLimit": 2048000,
      "rowLimit": 10000
     },
     "inputWidgets": {},
     "nuid": "f1985d13-3403-4492-8a9a-ea442b6719a2",
     "showTitle": false,
     "tableResultSettingsMap": {},
     "title": ""
    }
   },
   "outputs": [],
   "source": [
    "-- CREATE OR REPLACE FUNCTION australia_filter(country STRING)\n",
    "-- RETURNS STRING\n",
    "-- RETURN country = 'Australia';"
   ]
  },
  {
   "cell_type": "code",
   "execution_count": 0,
   "metadata": {
    "application/vnd.databricks.v1+cell": {
     "cellMetadata": {
      "byteLimit": 2048000,
      "rowLimit": 10000
     },
     "inputWidgets": {},
     "nuid": "491ac683-37fb-4938-82de-fbc2e4a433e8",
     "showTitle": false,
     "tableResultSettingsMap": {},
     "title": ""
    }
   },
   "outputs": [],
   "source": [
    "-- CREATE OR REPLACE POLICY australian_customers_only\n",
    "-- ON SCHEMA moviebuster_gold\n",
    "-- ROW FILTER australia_filter\n",
    "-- TO `account users`\n",
    "-- FOR TABLES\n",
    "-- MATCH COLUMNS hasTag('class.location') AS country\n",
    "-- USING COLUMNS (country);"
   ]
  }
 ],
 "metadata": {
  "application/vnd.databricks.v1+notebook": {
   "computePreferences": null,
   "dashboards": [],
   "environmentMetadata": {
    "base_environment": "",
    "environment_version": "2"
   },
   "inputWidgetPreferences": null,
   "language": "sql",
   "notebookMetadata": {
    "mostRecentlyExecutedCommandWithImplicitDF": {
     "commandId": -1,
     "dataframes": [
      "_sqldf"
     ]
    },
    "pythonIndentUnit": 2
   },
   "notebookName": "Create_Gold_Layer",
   "widgets": {
    "catalog": {
     "currentValue": "marat_levit",
     "nuid": "c64b5919-1d8b-4ccb-bfc6-3657649a84ce",
     "typedWidgetInfo": {
      "autoCreated": false,
      "defaultValue": "",
      "label": null,
      "name": "catalog",
      "options": {
       "widgetDisplayType": "Text",
       "validationRegex": null
      },
      "parameterDataType": "String"
     },
     "widgetInfo": {
      "widgetType": "text",
      "defaultValue": "",
      "label": null,
      "name": "catalog",
      "options": {
       "widgetType": "text",
       "autoCreated": null,
       "validationRegex": null
      }
     }
    }
   }
  },
  "language_info": {
   "name": "sql"
  }
 },
 "nbformat": 4,
 "nbformat_minor": 0
}
